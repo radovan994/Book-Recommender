{
 "cells": [
  {
   "cell_type": "code",
   "execution_count": 3,
   "metadata": {},
   "outputs": [],
   "source": [
    "import numpy as np \n",
    "import pandas as pd\n",
    "import pickle"
   ]
  },
  {
   "cell_type": "code",
   "execution_count": 1,
   "metadata": {},
   "outputs": [
    {
     "name": "stderr",
     "output_type": "stream",
     "text": [
      "C:\\Users\\radov\\anaconda3\\envs\\TestEnv\\lib\\site-packages\\gensim\\similarities\\__init__.py:15: UserWarning: The gensim.similarities.levenshtein submodule is disabled, because the optional Levenshtein package <https://pypi.org/project/python-Levenshtein/> is unavailable. Install Levenhstein (e.g. `pip install python-Levenshtein`) to suppress this warning.\n",
      "  warnings.warn(msg)\n"
     ]
    }
   ],
   "source": [
    "from nltk.tokenize import word_tokenize \n",
    "from gensim.models.doc2vec import Doc2Vec, TaggedDocument"
   ]
  },
  {
   "cell_type": "code",
   "execution_count": 4,
   "metadata": {},
   "outputs": [],
   "source": [
    "my_data = {}\n",
    "with open('final-dict.pkl', 'rb') as f:\n",
    "    my_data = pickle.load(f)"
   ]
  },
  {
   "cell_type": "code",
   "execution_count": 5,
   "metadata": {},
   "outputs": [
    {
     "data": {
      "text/plain": [
       "30505"
      ]
     },
     "execution_count": 5,
     "metadata": {},
     "output_type": "execute_result"
    }
   ],
   "source": [
    "len(my_data.keys())\n",
    "del my_data['Nerazrušivo']\n",
    "del my_data['Der Jahrmarktgaukler']\n",
    "del my_data['Istočno pitanje']\n",
    "len(my_data.keys())\n"
   ]
  },
  {
   "cell_type": "code",
   "execution_count": 6,
   "metadata": {},
   "outputs": [
    {
     "name": "stderr",
     "output_type": "stream",
     "text": [
      "[nltk_data] Downloading package punkt to\n",
      "[nltk_data]     C:\\Users\\radov\\AppData\\Roaming\\nltk_data...\n",
      "[nltk_data]   Package punkt is already up-to-date!\n"
     ]
    },
    {
     "data": {
      "text/plain": [
       "True"
      ]
     },
     "execution_count": 6,
     "metadata": {},
     "output_type": "execute_result"
    }
   ],
   "source": [
    "import nltk\n",
    "nltk.download('punkt')"
   ]
  },
  {
   "cell_type": "code",
   "execution_count": 7,
   "metadata": {},
   "outputs": [],
   "source": [
    "train_doc2vec = [TaggedDocument((word_tokenize(my_data[t])), tags=[t]) for t in my_data.keys()]\n",
    "model = Doc2Vec(vector_size=50, alpha=0.025, min_count=10, dm=1, epochs=100)\n",
    "model.build_vocab(train_doc2vec)\n",
    "model.train(train_doc2vec, total_examples=model.corpus_count, epochs= model.epochs)\n",
    "model.save(\"d2v.model\")"
   ]
  },
  {
   "cell_type": "code",
   "execution_count": 8,
   "metadata": {},
   "outputs": [],
   "source": [
    "model = Doc2Vec.load(\"d2v.model\")"
   ]
  },
  {
   "cell_type": "code",
   "execution_count": 9,
   "metadata": {},
   "outputs": [],
   "source": [
    "def recommend(text):\n",
    "  new_vector = model.infer_vector(word_tokenize(text))\n",
    "  sims = model.docvecs.most_similar([new_vector])\n",
    "   \n",
    "  for sim in sims:\n",
    "    print(sim)\n",
    "    print(my_data[sim[0]])\n",
    "    print(\"-------\")\n",
    "    print(\"\\n\")\n"
   ]
  },
  {
   "cell_type": "code",
   "execution_count": 15,
   "metadata": {},
   "outputs": [
    {
     "name": "stdout",
     "output_type": "stream",
     "text": [
      "('Joomla 3', 0.7957609295845032)\n",
      "koristeći sve prednosti novih funkcija i poboljšanja koja su dodata u izdanje 2014 joomlae 3 ovaj praktičan vodič započinje tako što će vas naučiti kako da instalirate joomlau nakon brzog pregleda osnovnih koncepata i novih funkcija kreiraćete svoj prvi web sajt za veoma kratko vreme tako što ćete prilagoditi joomlain standardni primer sajta tako da odgovara vašim potrebama menjajući logo boje menija i sadržajnaučićete kako da organizujete sve veći sadržaj pomoću joomlainog fleksibilnog siastema kategorija i tagova sadržaja u poslednjih nekoliko poglavlja saznaćete više od osnova i otkrićete kako da proširite mogućnosti joomlae na kraju naučićete više od optimizaciji mašina za pretraživanje seo bezbednosti sajta i višejezičnim sajtovimakorak po korak joomla 3 vodič za početnike drugo izdanje naučiće vas kako da podesite prilagodite poboljšate i održavate web sajt pomoću joomlae\n",
      "-------\n",
      "\n",
      "\n",
      "('PC priručnik', 0.7879952788352966)\n",
      "pc priručnik vam donosi sve ono što treba da znate o radu sa računarima ova knjiga vas postupno i detaljno uvodi u tajne hardvera i softvera i uči vas kako da koristite i održavate računar uštedećete vreme nerviranje pa i novac tako što ćete znati kako da rešavate probleme i nadogradite računar naučićete kako da koristite windows 98 i programe word i excel iz paketa microsoft office 2000 krstarenje internetom pomoću explorera i navigatora postaće za vas igra kroz koju ćete nalaziti zanimljive sadržaje i programe   u knjizi ćete pronaći  hardver osnovni elementi pc računara multimedijski uređaji instaliranje diskova i zvučnih kartica proširivanje memorije nadogradnja računara rešavanje hardverskih i softverskih problema   osnove windowsa instaliranje windowsa upoznavanje sa radom windowsa rukovanje datotekama i direktorijumima upotreba programa za multimediju učitavanje i korišćenje programa organizovanje radne površine  osnove officea prvi koraci u microsoftovom officeu korišćenje officeovih programa pisanje i uređivanje dokumenata u wordu pravljenje excelovih radnih listova i unošenje podataka  internet pristupanje internetu komunikacija putem elektronske pošte pretraživanje weba pomoću internet explorera i netscape navigatora  igre uvod u računarske igre  plus sveobuhvatan rečnik hardvera i imenik domaćih računarskih firmi i dobavljača usluga interneta\n",
      "-------\n",
      "\n",
      "\n",
      "('Objektno - orijentisan JavaScript', 0.7786366939544678)\n",
      "naučite sve što treba da znate o objektnoorijentisanom javascriptu pomoću ovog sveobuhvatnog vodiča uđite u svet najsavremenijeg programiranjašta ćete naučitiprimenite objektnoorijentisano programiranje u javascript okruženjupotpuno ovladajte korišćenjem javascript konzolenapravite čistije i brže programe koji su kompatibilni sa drugim programima i bibliotekamaupoznajte iteratore i generatore  nove funkcije koje su dodate u jezik es6otkrijte kako se pišu arrow funkcije jezika ecmascript 6naučite kako da koristite objekte u google chrome programerskim alatkamaupotrebite kombinaciju prototipnog nasleđivanja i kopiranja svojstava u radnom tokuprimenite tehnike reaktivnog programiranja dok pišete program u javascriptuopis knjigejavascript je objektnoorijentisani programski jezik koji se koristi za razvoj veb sajtova veb stranice se danas prave po obrascu koji se sastoji od tri jasno prepoznatljiva dela sadržaja html prezentacije css i ponašanja javascript javascript predstavlja važan „stub“ u ovom obrascu i služi za pokretanje veb stranicaova knjiga će podići vaše javascript veštine na novi nivo sofisticiranosti i pripremiće vas za „putovanje“ kroz profesionalno veb programiranje novo izdanje knjige za jezik es6 pokriva sve što je potrebno da biste otkrili moć objektnoorijentisanog programiranja u javascriptu dok pravite profesionalne veb aplikacije knjiga počinje osnovama objektnoorijentisanog programiranja u javascriptu a zatim se postepeno prelazi na korišćenje funkcija objekata i prototipa za izradu čistijih održivijih i bržih programa koji su kompatibilni sa drugim programima i bibliotekamana kraju knjige ćete naučiti kako da uključite objektnoorijentisanje programiranje u radni tok veb programiranja da biste napravili profesionalne javascript aplikacije\n",
      "-------\n",
      "\n",
      "\n",
      "('PHP 8 objekti,obrasci i praksa: objektno orijentisan pristup', 0.7625792026519775)\n",
      "php 8 objekti obrasci i praksa ovladajte oo poboljšanjima projektnim obrascima i glavnim razvojnim alatima prevod 6 izdanjanaučite da razvijate elegantne i čvrste sisteme pomoću tri ključna elementa phpa osnova objekata principa dizajna i najbolje prakse šesto izdanje ove popularne knjige je u potpunosti ažurirano za php 8 uključujući atribute promociju svojstva konstruktora nove pseudotipove argumenata i rezultata i još mnogo toga takođe obuhvata mnogo novih funkcija nastalih od prethodnog izdanja uključujući tipizirana svojstva operator null spajanja i void povratne tipove ova knjiga daje čvrstu osnovu za phpovu podršu objektima predstavlja osnovne principe softverskog dizajna a zatim pokriva alate i prakse potrebne za razvoj testiranje i raspoređivanje robustnog kodaknjiga php 8 objekti obrasci i praksa počinje opisom objektnoorijentisanih funkcija phpa predstavljene su ključne teme uključujući deklaracije klasa nasleđivanje i refleksiju sledeći odeljak posvećen je projektnim obrascima gde je objašnjeno koji principi čine obrasce moćnim opisani su mnogi klasični projektni obrasci kao što su poslovni obrasci i obrasci baze podataka u poslednjem delu knjige govorimo o praksi i alatima koji odličan kod pretvaraju u uspešan projekat tu je opisano kako da pomoću gita upravljate grupom programera i višestrukim izdanjima i kako da upravljate verzijama i zavisnostima pomoću composera takođe razmotrene su strategije automatizovanog testiranja i kontinualne integracijeuz ovu knjigu i uz vežbe koje se nalaze u njoj vladaćete objektnoorijentisanim poboljšanjima projektnim obrascima i glavnim razvojnim alatima dostupnim za php 8šta ćete naučiti rad sa osnovama objekta pisanje klasa i metoda instanciranje objekata i kreiranje moćnih hijerarhija klase pomoću nasleđivanja napredne funkcije objektnoorijentisanog programiranja uključujući statičke metode i svojstva upravljanje uslovima grešaka sa izuzetcima i kreiranje apstraktnih klasa i interfejsa principe dizajna za efikasno raspoređivanje objekata i klasa u projekte skup moćnih obrazaca koje možete da implementirate u svojim projektima da budete garant uspešnog projekta uključujući jedinično testiranje kontrolu verzija i izgradnju instalaciju i upravljanje paketima i kontinualnu integracijuza koga je ova knjigaova knjiga je za svakog ko ima osnovno znanje o phpu i želi da koristi njegove objektnoorijentisane funkcije u svojim projektima takođe knjiga je namenjena i php koderima koji žele da znaju prakse i alate kontrola verzija testiranje kontinualna integracija itd koji će projekte učiniti sigurnim elegantnim i stabilnim\n",
      "-------\n",
      "\n",
      "\n",
      "('Raspberry Pi 3', 0.7620537877082825)\n",
      "u ovoj knjizi se razmatra računar raspberry pi 3 i njegova upotreba u aplikacijama za kontrolu i nadgledanje u knjizi je jednostavnim terminima i pomoću testiranih i radnih primera projekata objašnjeno kako se konfiguriše računar raspberry pi 3 kako se instalira i koristi operativni sistem linux i kako se pišu aplikacijski programi zasnovani na hardveru pomoću programskog jezika pythondobra karakteristika ove knjige je da pokriva mnoge hardverske projekte zasnovane na računaru raspberry pi 3 u kojima se koriste najnoviji hardverski moduli kao što su sense hat swiss pi motopi camera modul i mnogi drugi vrhunski analogni i digitalni senzori važna funkcija računara raspberry pi 3 je da sadrži bluetooth i wifi module na pločiu ovoj knjizi su dati primeri projekata za upotrebu wifi i bluetooth modula pomoću kojih je prikazano slanje stvarnih podataka na cloud servis pomoću wifi modula i komunikacija sa android mobilnim telefonom pomoću bluetooth modulaknjiga je idealna za samostalno učenje i namenjena je za studente elektronikeelektrotehnike inženjere u praksi studente istraživače i hobiste preporučuje se da knjigu pratite prema datom rasporedu poglavljaknjiga sadrži više od 30 projekatasvi projekti se zasnivaju na programskom jeziku python i u potpunosti su testirani u knjizi su dati kompletni listinzi programa svakog projekta zajedno sa komentarima i punim opisom iskusni programeri bi trebalo lako da modifikuju i ažuriraju programe da bi ih prilagodili svojim potrebamada bi čitaoci što lakše pratili projekte za svaki projekat dati su sledeći podnaslovinaslov projekta – opis – cilj projekta – tip raspberry pi – blok dijagram – električna šema – listing programa poglavlje 1 • raspberry pi modelipoglavlje 2 • instaliranje operativnog sistemapoglavlje 3 • upotreba komandne linijepoglavlje 4 • desktop gui interfejs  desktop aplikacijepoglavlje 5 • upotreba uređivača teksta u linux komandnom režimupoglavlje 6 • raspberry pi 3 povezivanje hardverapoglavlje 7 • jednostavni projekti za raspberry pi 3poglavlje 8 • iscrtavanje grafikona u stvarnom vremenupoglavlje 9 • korišćenje modula pygame za prikaz vlažnosti i temperaturepoglavlje 10 • korišćenje pi 3 click shieldapoglavlje 11 • korišćenje sense hat pločepoglavlje 12 • korišćenje raspberry pi kamereprojekat 13 • korišćenje motopi pločeprojekat 14 – upotreba swiss pi pločepoglavlje 15 • upotreba wifi veze na raspberry pi 3 pločipoglavlje 16 • korišćenje bluetootha na raspberry pi 3 pločidodatak a • konfiguracija gpio pinova na raspberry pi 3 pločidodatak b • android aplikacije za raspberry pi\n",
      "-------\n",
      "\n",
      "\n",
      "('Python 3', 0.7618722915649414)\n",
      "ovo je drugo izdanje knjige koja je namenjena za inženjere naučnike i hobiste koji žele da povežu računare sa hardverskim projektima pomoću grafičkih korisničkih interfejsa pokrivene su desktop i veb aplikacijekoristi se programski jezik python 3 koji je jedan od najpopularnijih jezika brzina programiranja je ključna karakteristika knjiga je revidirana i ažurirana sa naglaskom na to da nauči korisnika da jednostavno napravi praktične dizajne – uređivač teksta je sve što je potrebno za pisanje python programapovezivanje hardvera se postiže korišćenjem arduino unoa kao daljinskog slave uređaja u knjizi je dat pun opis i izvorni kod komunikacionog interfejsa slave uređaj omogućava digitalne i analogne ulaze i izlaze u jedan projekat možete uključiti više unoa pomoću kontrolnog koda koji je napisan u pythonu i koji radi na računaru jedan projekat uključuje pic mikrokontrolere sa kodom koji se može učitati na pic pomoću unoa veb aplikacije i server su implementirani u python što vam omogućava da pristupite elektronskom hardveru preko interneta računar raspberry pi može da se koristi kao veb serveruvodno poglavlje će vam pomoći da započnete korišćenje linuxa za projekte u knjizi se koristi debian ili varijacije kao što su mint ili ubuntu\n",
      "-------\n",
      "\n",
      "\n",
      "('Naučite Swift 3', 0.7610726356506348)\n",
      "zaronite u najnovije izdanje swift programskog jezika pomoću ove knjige o naprednom apple programiranjušta ćete naučitidetalje o osnovnim komponentama swifta 30 uključujući operatore kolekcije kontrolu toka i funkcijeda kreirate i upotrebite klase strukture i nabrajanjada razumete objektno orijentisani swift i videćete kako da upotrebite nasleđivanje protokole i ekstenzijeda razvijete praktično razumevanje indeksiranja izbora i zaključakavidećete kako da upotrebite nove ekstenzije protokola i funkcije za rukovanje greškama u swiftu 30da dodate paralelni rad u aplikacije koristeći grand central dispatchswift je definitivni jezik apple razvoja danas vitalni je deo veštine svakog ios i os x programera i pomaže im da izgrade najimpresivnije i popularne aplikacije na app storeu – vrste aplikacija koje su važne za svakodnevnu upotrebu iphone i ipad korisnika u verziji 30 swift tim je dodao nove funkcije za poboljšanje iskustva razvoja – olakšavajući dobijanje rezultata koje želite i koje kupci očekujupronaći ćete ključne funkcije swifta 3 i brzo ćete naučiti kako da upotrebite najnovije ispravke u korist programiranja od objectivec interoperabilnosti sa arcom do zaključaka i paralelnog rada ovaj napredni vodič za swift će razviti vašu stručnost i učitiniti je dobro utemeljenom u ovom važnom programskom jezikupružićemo vam detaljno znanje o nekim od najsavremenijih elemenata swift programiranja uključujući ekstenzije protokola rukovanje greškama obrasce projektovanja i paralelni rad i opisaćemo kako da ih upotrebite i primenite u svojim projektima videćete kako čak i najizazovniji obrasci projektovanja i tehnike programiranja mogu da se upotrebe za pisanje čistijeg koda i za izgradnju ios i os x aplikacija bolje performansedo kraja ove knjige imaćete efektivne obrasce projektovanja i upoznaćete tehnike što znači da ćete uskoro pisati bolje ios and os x aplikacije sa novim nivoom sofisticiranosti i kontrole\n",
      "-------\n",
      "\n",
      "\n",
      "('Java 2 tom II', 0.7605411410331726)\n",
      "knjiga koja je pred vama predstavlja drugi deo sedmog izdanja knjige jezgro jave 2 prvi deo obuhvata suštinske karakteristike jezika ovaj deo pokriva napredne karakteristike koje programer treba da zna u profesionalnom razvoju softvera stoga isto kao što je to bio slučaj sa prvim delom i sa prethodnim izdanjima ove knjige knjiga je namenjena programerima koji žele da koriste java tehnologiju u svojim realnim projektima svi primeri su u potpunosti provereni i realni autori se pozivaju na poglavlja prethodnog dela kada je to prikladno i nadamo se naravno da ste kupili i prvi deo knjige pošto u njoj možete pronaći sav materijal potreban za praćenje drugog dela\n",
      "-------\n",
      "\n",
      "\n",
      "('Visual Basic 2008 - od početnika do profesionalca', 0.7605144381523132)\n",
      "ova knjiga je napisana tako da vas nauči kako da programski jezik visual basic 2008 koristite za rešavanje problema počevši od prvih poglavlja i od uvodnih koncepata susretaćete se sa svakodnevnim problemima programiranja i učićete kako se ti problemi mogu rešiti pomoću programskog jezika visual basic dok budete čitali knjigu nailazićete na probleme koji su sve zahtevniji i interesantniji a rešenja tih problema će biti složenija i moćnija koliko i osobine programskog jezika visual basic koje se koriste za postizanje željinih rezultatapošto budete pročitali knjigu i provežbali primere postaćete veoma kompetentan visual basic programer međutim zarad buduće karijere programera treba bolje da upoznate net framework api ali ćete ipak imati dobru osnovu za nadogradnju znanja i znaćete gde ćete pronaći odgovore kako biste uspešno dovršili projektekristian gros je rešen da čitaocima pomogne da razumeju svaki detalj knige upoznavanje sa vb 2008 stoga ga ukoliko ste kupili ovu knjigu i vi možete kontaktirati preko skypea christiangross i postaviti mu pitanje ukoliko kristijan nije zauzet kada mu budete postavljali pitanje pokušaće odmah da vam odgovorišta ćete naučitipostaćete vešti u korišćenju programskog jezika visual basic 2008naučićete sve što je neophodno da sami napravite dobro osmišljene aplikacije pomoću ove knjige ćete kako da pišete net programski kodvisual studio idećete koristiti za pravljenje debagiranje i razvijanje aplikacijaknjigaće vam pomoći da razumete kako se radi sa bazama podataka i mnogobrojne načine na koje se to može uraditi pomoću programskog jezika vbdetaljnoće biti razmotren veliki broj pomoćnih net framework tehnologija tehnologije linq aspnet ajax adonet 30 wpf wcf i windows workflow su objašnjene na jasan i koncizan načinkome je knjiga namenjenaknjigu treba da pročita svako ko tek počinje da se upoznaje sa programskim jezikom visual basic 2008 autor ne očekuje da imate predznanje o objektnoorijentisanom programiranju okruženju net framework ili programiranju uopšte autor pretpostavlja da ste inteligentna osoba koja želi da uči te je tako i koncipirao knjigunekoliko reči o ediciji knjiga „od početnika do profesionalca izdavačke kuće appressedicija knjiga „od početnika do profesionalca izdavačke kuće appress je pravi izvor informacija koje su vam neophodne za dobijanje posla pomoću ovih knjiga ćete naučiti standardne i važne tehnologije jer su osmišljene tako da ih mogu koristiti svi od početnika do profesionlaca prvo ćete saznati šta sve treba da znate – ali bez nepotrebne teorije i dodatnih materijala znanje ćete uvećavati tako što ćete postupno praviti praktične projekte dakle bez obzira da li želite da napredujete ili samo da naučite nešto novo edicija knjiga „upoznavanje izdavačke kuće apress će vam u tome pomoći – to je pouzdan vodič kroz nepoznatu teritoriju\n",
      "-------\n",
      "\n",
      "\n",
      "('Architectural desktop 2007', 0.7543251514434814)\n",
      "10 lekcija za ovladavanje osnovama architectural desktopa 2007 ova knjiga će vas upoznati sa autodeskovim programom architectural desktop verzija 2007 tekst pokriva layer manager design center structural members doors windows i walls lekcije tipa korak po korak vas vode od kreiranja plana objekta plana prizemlja planiranja prostora i elevacija sve do kreiranja videa o završenom objektu  standardnog stambenog objekta sa tri spavaće sobe i dva kupatila detaljno se objašnjavaju linije alatki okviri za dijalog i komande za utvrđivanje znanja možete da koristite kvizove i praktične vežbe koje su uključene u tekst\n",
      "-------\n",
      "\n",
      "\n"
     ]
    },
    {
     "name": "stderr",
     "output_type": "stream",
     "text": [
      "<ipython-input-9-5d2f563d8783>:3: DeprecationWarning: Call to deprecated `docvecs` (The `docvecs` property has been renamed `dv`.).\n",
      "  sims = model.docvecs.most_similar([new_vector])\n"
     ]
    }
   ],
   "source": [
    "recommend(\"programiranje\")"
   ]
  }
 ],
 "metadata": {
  "interpreter": {
   "hash": "d8a050525f22bc7aa06f799790f2aee42ebb3e2bba46de38f5490e6682184a8d"
  },
  "kernelspec": {
   "display_name": "Python 3.8.8 64-bit ('TestEnv': conda)",
   "language": "python",
   "name": "python3"
  },
  "language_info": {
   "codemirror_mode": {
    "name": "ipython",
    "version": 3
   },
   "file_extension": ".py",
   "mimetype": "text/x-python",
   "name": "python",
   "nbconvert_exporter": "python",
   "pygments_lexer": "ipython3",
   "version": "3.8.8"
  },
  "orig_nbformat": 4
 },
 "nbformat": 4,
 "nbformat_minor": 2
}
