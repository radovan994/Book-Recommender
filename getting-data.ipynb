{
 "cells": [
  {
   "cell_type": "code",
   "execution_count": 1,
   "metadata": {},
   "outputs": [],
   "source": [
    "from bs4 import BeautifulSoup\n",
    "import requests"
   ]
  },
  {
   "cell_type": "code",
   "execution_count": 73,
   "metadata": {},
   "outputs": [],
   "source": [
    "headers1 = {\"User-Agent\": \"Mozilla/5.0 (Linux; U; Android 4.2.2; he-il; NEO-X5-116A Build/JDQ39) AppleWebKit/534.30 (\"\n",
    "                         \"KHTML, like Gecko) Version/4.0 Safari/534.30\"}\n",
    "\n",
    "response = requests.get(\"https://delfi.rs/pretraga?c=1&stanje=1\")\n",
    "webpage = response.content"
   ]
  },
  {
   "cell_type": "code",
   "execution_count": 74,
   "metadata": {},
   "outputs": [
    {
     "name": "stdout",
     "output_type": "stream",
     "text": [
      "20\n",
      "https://delfi.rs/knjige/184786_istorija_politicke_filozofije_-_2_izdanje_knjiga_delfi_knjizare.html\n"
     ]
    }
   ],
   "source": [
    "soup = BeautifulSoup(webpage,\"html.parser\")\n",
    "hrefs=[]\n",
    "for i in soup.find_all('div', attrs={'class' : 'overlay-container'}):\n",
    "    hrefs.append(i.a['href'])\n",
    "print(len(hrefs))\n",
    "print(hrefs[1])"
   ]
  },
  {
   "cell_type": "code",
   "execution_count": 79,
   "metadata": {},
   "outputs": [
    {
     "name": "stdout",
     "output_type": "stream",
     "text": [
      "https://delfi.rs/knjige/184669_opasno_je_govoriti_o_bogu_knjiga_delfi_knjizare.html\n"
     ]
    }
   ],
   "source": [
    "# https://delfi.rs/pretraga?c=1&per_page=20&s=relevance&cena_od=0&cena_do=0&izdavaci=%5B%5D&pismo=%5B%5D&povez=%5B%5D&uzrast=%5B%5D&autor=%5B%5D&datum_unosa=%5B%5D&platforma=%5B%5D&zanr=%5B%5D&podzanr=%5B%5D&boks=%5B%5D&kategorija=%5B%5D&stanje=-1&page=8\n",
    "\n",
    "hrefs1=[]\n",
    "for i in range(1,2501):\n",
    "    url = f\"https://delfi.rs/pretraga?c=1&per_page=20&s=relevance&cena_od=0&cena_do=0&izdavaci=%5B%5D&pismo=%5B%5D&povez=%5B%5D&uzrast=%5B%5D&autor=%5B%5D&datum_unosa=%5B%5D&platforma=%5B%5D&zanr=%5B%5D&podzanr=%5B%5D&boks=%5B%5D&kategorija=%5B%5D&stanje=-1&page={i}\"\n",
    "    response1 = requests.get(url,headers=headers1)\n",
    "    webpage = response1.content\n",
    "    soup = BeautifulSoup(webpage,\"html.parser\")  \n",
    "    for i in soup.find_all('div', attrs={'class' : 'overlay-container'}):\n",
    "        hrefs1.append(i.a['href'])\n",
    "\n",
    "       \n"
   ]
  },
  {
   "cell_type": "code",
   "execution_count": 80,
   "metadata": {},
   "outputs": [],
   "source": [
    "import pandas as pd\n",
    "df = pd.DataFrame(hrefs1)\n",
    "df.to_csv('myfile.csv')"
   ]
  },
  {
   "cell_type": "code",
   "execution_count": 83,
   "metadata": {},
   "outputs": [
    {
     "name": "stdout",
     "output_type": "stream",
     "text": [
      "50000\n"
     ]
    }
   ],
   "source": [
    "print(len(hrefs1))"
   ]
  },
  {
   "cell_type": "code",
   "execution_count": 84,
   "metadata": {},
   "outputs": [
    {
     "name": "stdout",
     "output_type": "stream",
     "text": [
      "49999\n",
      "49999\n"
     ]
    }
   ],
   "source": [
    "titles = []\n",
    "summaries = []\n",
    "\n",
    "for i in hrefs1:    \n",
    "        \n",
    "        url = f\"{i}\"   \n",
    "        response2 = requests.get(url, headers=headers1)\n",
    "        webpage = response2.content\n",
    "        soup = BeautifulSoup(webpage,\"html.parser\")\n",
    "        for i in soup.find_all('h1', attrs={'class' : 'media-heading'}):\n",
    "                titles.append(i.text.strip())\n",
    "\n",
    "        for i in soup.find_all('div', attrs={'class' : 'tab-pane opis show active'}):\n",
    "                summaries.append(i.text.strip())\n",
    "\n",
    "print(len(titles))\n",
    "print(len(summaries))"
   ]
  },
  {
   "cell_type": "code",
   "execution_count": 91,
   "metadata": {},
   "outputs": [
    {
     "name": "stdout",
     "output_type": "stream",
     "text": [
      "U Evropi fašizam, nacizam i komunizam nikad nisu dosledno poraženi. Svaka pohvala kolektivizmu trebalo je da bude opomena da se nisu razumele strahovite poruke svetskih ratova. Nikad nije uspostavljen etički konsenzus o tragičnoj sudbini istočne strane Gvozdene zavese. Politički progoni i ubistva, provincijalizacija javnosti i kulture, međunarodno etablirani organizovani kriminal više nisu samo stvarnost Putinove Rusije. Ova knjiga ulazi duboko u svakodnevicu u kojoj je i dalje neizvesna budućnost evropskog sveta, slobode kretanja, mišljenja, poslovanja, odluka za budućnost. Drugi hladni rat vodi se u svakoj evropskoj državi, u svakoj društvenoj ćeliji, u svakoj važnoj debati.  „Svež i dubok analitički pogled na korenite promene koje su se odigrale u prethodne dve decenije na svetskoj političkoj sceni. Autor detaljno prati novi uspon Rusije i promenu balansa u odnosima sa moćnim svetskim silama, najpre sa Sjedinjenim Američkim Državama. Analizirajući odnose dva nekadašnja rivala iz Prvog hladnog rata, autor uspostavlja parametre Drugog, precizno objašnjavajući različite aspekte ovog rivalstva, nove načine nekad tihog, nekada otvorenijeg sukobljavanja u težnji za uticajem i dominacijom.“ – Prof. dr Vlada Stanković, Filozofski fakultet u Beogradu  „Nikola Samardžić dekonstruiše populističke narative koji u savremenim hibridnim dejstvima predstavljaju glavno oružje savremene Rusije. Zapadni svet, oličen u EU i SAD, svojim pak slabostima i nedoslednostima otvara prostor za delovanje Rusije i Kine, a glavne žrtve takvog delovanja su narodi koji žive na tzv. proksi teritorijama – Balkanu, Ukrajini i Bliskom istoku. Jezik i stil kojim je knjiga pisana čine je pristupačnom širokoj čitalačkoj publici i to je njena posebna vrednost.“ – Prof. dr Zoran Dragišić, Fakultet bezbednosti u Beogradu\n"
     ]
    }
   ],
   "source": [
    "print(summaries[0])"
   ]
  },
  {
   "cell_type": "code",
   "execution_count": 93,
   "metadata": {},
   "outputs": [],
   "source": [
    "my_data = dict(zip(titles, summaries))\n",
    "df = pd.DataFrame.from_dict(my_data, orient=\"index\")\n",
    "df.to_csv(\"data.csv\",encoding='utf-8-sig')\n"
   ]
  },
  {
   "cell_type": "code",
   "execution_count": 94,
   "metadata": {},
   "outputs": [],
   "source": [
    "import pickle\n",
    "with open('saved_dictionary.pkl', 'wb') as f:\n",
    "    pickle.dump(my_data, f)"
   ]
  }
 ],
 "metadata": {
  "interpreter": {
   "hash": "d8a050525f22bc7aa06f799790f2aee42ebb3e2bba46de38f5490e6682184a8d"
  },
  "kernelspec": {
   "display_name": "Python 3.8.8 64-bit ('TestEnv': conda)",
   "language": "python",
   "name": "python3"
  },
  "language_info": {
   "codemirror_mode": {
    "name": "ipython",
    "version": 3
   },
   "file_extension": ".py",
   "mimetype": "text/x-python",
   "name": "python",
   "nbconvert_exporter": "python",
   "pygments_lexer": "ipython3",
   "version": "3.8.8"
  },
  "orig_nbformat": 4
 },
 "nbformat": 4,
 "nbformat_minor": 2
}
