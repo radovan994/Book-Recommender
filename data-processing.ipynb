{
 "cells": [
  {
   "cell_type": "code",
   "execution_count": 1,
   "metadata": {},
   "outputs": [],
   "source": [
    "import pandas as pd"
   ]
  },
  {
   "cell_type": "code",
   "execution_count": 2,
   "metadata": {},
   "outputs": [
    {
     "data": {
      "text/html": [
       "<div>\n",
       "<style scoped>\n",
       "    .dataframe tbody tr th:only-of-type {\n",
       "        vertical-align: middle;\n",
       "    }\n",
       "\n",
       "    .dataframe tbody tr th {\n",
       "        vertical-align: top;\n",
       "    }\n",
       "\n",
       "    .dataframe thead th {\n",
       "        text-align: right;\n",
       "    }\n",
       "</style>\n",
       "<table border=\"1\" class=\"dataframe\">\n",
       "  <thead>\n",
       "    <tr style=\"text-align: right;\">\n",
       "      <th></th>\n",
       "      <th>titles</th>\n",
       "      <th>summaries</th>\n",
       "    </tr>\n",
       "  </thead>\n",
       "  <tbody>\n",
       "    <tr>\n",
       "      <th>0</th>\n",
       "      <td>Drugi hladni rat</td>\n",
       "      <td>U Evropi fašizam, nacizam i komunizam nikad ni...</td>\n",
       "    </tr>\n",
       "    <tr>\n",
       "      <th>1</th>\n",
       "      <td>Istorija političke filozofije - 2 izdanje</td>\n",
       "      <td>Ovaj artikal nema opis.</td>\n",
       "    </tr>\n",
       "    <tr>\n",
       "      <th>2</th>\n",
       "      <td>Rasprava o dobrovoljnom ropstvu</td>\n",
       "      <td>Libertas omnibus rebus favoribilior est(Slobod...</td>\n",
       "    </tr>\n",
       "    <tr>\n",
       "      <th>3</th>\n",
       "      <td>Talični Liju</td>\n",
       "      <td>„Nakon propale ženidbe u rodnom selu Povetarče...</td>\n",
       "    </tr>\n",
       "    <tr>\n",
       "      <th>4</th>\n",
       "      <td>Moja prva igra memorije - životinje</td>\n",
       "      <td>Ovo je igra zapažanja i pamćenja. Cilj igre je...</td>\n",
       "    </tr>\n",
       "  </tbody>\n",
       "</table>\n",
       "</div>"
      ],
      "text/plain": [
       "                                      titles  \\\n",
       "0                           Drugi hladni rat   \n",
       "1  Istorija političke filozofije - 2 izdanje   \n",
       "2            Rasprava o dobrovoljnom ropstvu   \n",
       "3                               Talični Liju   \n",
       "4        Moja prva igra memorije - životinje   \n",
       "\n",
       "                                           summaries  \n",
       "0  U Evropi fašizam, nacizam i komunizam nikad ni...  \n",
       "1                            Ovaj artikal nema opis.  \n",
       "2  Libertas omnibus rebus favoribilior est(Slobod...  \n",
       "3  „Nakon propale ženidbe u rodnom selu Povetarče...  \n",
       "4  Ovo je igra zapažanja i pamćenja. Cilj igre je...  "
      ]
     },
     "execution_count": 2,
     "metadata": {},
     "output_type": "execute_result"
    }
   ],
   "source": [
    "df = pd.read_csv('data.csv')\n",
    "df.columns = ['titles','summaries']\n",
    "df.head()"
   ]
  },
  {
   "cell_type": "code",
   "execution_count": 3,
   "metadata": {},
   "outputs": [
    {
     "name": "stdout",
     "output_type": "stream",
     "text": [
      "<class 'pandas.core.frame.DataFrame'>\n",
      "RangeIndex: 46980 entries, 0 to 46979\n",
      "Data columns (total 2 columns):\n",
      " #   Column     Non-Null Count  Dtype \n",
      "---  ------     --------------  ----- \n",
      " 0   titles     46980 non-null  object\n",
      " 1   summaries  43064 non-null  object\n",
      "dtypes: object(2)\n",
      "memory usage: 734.2+ KB\n"
     ]
    }
   ],
   "source": [
    "df.info()"
   ]
  },
  {
   "cell_type": "code",
   "execution_count": 4,
   "metadata": {},
   "outputs": [
    {
     "name": "stdout",
     "output_type": "stream",
     "text": [
      "<class 'pandas.core.frame.DataFrame'>\n",
      "Int64Index: 43064 entries, 0 to 46979\n",
      "Data columns (total 2 columns):\n",
      " #   Column     Non-Null Count  Dtype \n",
      "---  ------     --------------  ----- \n",
      " 0   titles     43064 non-null  object\n",
      " 1   summaries  43064 non-null  object\n",
      "dtypes: object(2)\n",
      "memory usage: 1009.3+ KB\n"
     ]
    }
   ],
   "source": [
    "df = df.dropna(how='any',axis=0) \n",
    "df.info()"
   ]
  },
  {
   "cell_type": "code",
   "execution_count": 5,
   "metadata": {},
   "outputs": [
    {
     "name": "stdout",
     "output_type": "stream",
     "text": [
      "<class 'pandas.core.frame.DataFrame'>\n",
      "Int64Index: 38619 entries, 0 to 46969\n",
      "Data columns (total 2 columns):\n",
      " #   Column     Non-Null Count  Dtype \n",
      "---  ------     --------------  ----- \n",
      " 0   titles     38619 non-null  object\n",
      " 1   summaries  38619 non-null  object\n",
      "dtypes: object(2)\n",
      "memory usage: 905.1+ KB\n"
     ]
    }
   ],
   "source": [
    "df = df[df.summaries != 'Ovaj artikal nema opis.']\n",
    "df.info()"
   ]
  },
  {
   "cell_type": "code",
   "execution_count": 6,
   "metadata": {},
   "outputs": [
    {
     "name": "stdout",
     "output_type": "stream",
     "text": [
      "<class 'pandas.core.frame.DataFrame'>\n",
      "Int64Index: 38568 entries, 0 to 46969\n",
      "Data columns (total 2 columns):\n",
      " #   Column     Non-Null Count  Dtype \n",
      "---  ------     --------------  ----- \n",
      " 0   titles     38568 non-null  object\n",
      " 1   summaries  38568 non-null  object\n",
      "dtypes: object(2)\n",
      "memory usage: 903.9+ KB\n"
     ]
    }
   ],
   "source": [
    "df = df[~df.summaries.str.contains(\"Originalni naslov:\")]\n",
    "df.info()"
   ]
  },
  {
   "cell_type": "code",
   "execution_count": 7,
   "metadata": {},
   "outputs": [
    {
     "name": "stdout",
     "output_type": "stream",
     "text": [
      "<class 'pandas.core.frame.DataFrame'>\n",
      "Int64Index: 38478 entries, 0 to 46969\n",
      "Data columns (total 2 columns):\n",
      " #   Column     Non-Null Count  Dtype \n",
      "---  ------     --------------  ----- \n",
      " 0   titles     38478 non-null  object\n",
      " 1   summaries  38478 non-null  object\n",
      "dtypes: object(2)\n",
      "memory usage: 901.8+ KB\n"
     ]
    }
   ],
   "source": [
    "df = df[~df.summaries.str.contains(\"Naslov originala:\")]\n",
    "df.info()"
   ]
  },
  {
   "cell_type": "code",
   "execution_count": 8,
   "metadata": {},
   "outputs": [
    {
     "data": {
      "text/html": [
       "<div>\n",
       "<style scoped>\n",
       "    .dataframe tbody tr th:only-of-type {\n",
       "        vertical-align: middle;\n",
       "    }\n",
       "\n",
       "    .dataframe tbody tr th {\n",
       "        vertical-align: top;\n",
       "    }\n",
       "\n",
       "    .dataframe thead th {\n",
       "        text-align: right;\n",
       "    }\n",
       "</style>\n",
       "<table border=\"1\" class=\"dataframe\">\n",
       "  <thead>\n",
       "    <tr style=\"text-align: right;\">\n",
       "      <th></th>\n",
       "      <th>titles</th>\n",
       "      <th>summaries</th>\n",
       "    </tr>\n",
       "  </thead>\n",
       "  <tbody>\n",
       "    <tr>\n",
       "      <th>0</th>\n",
       "      <td>Drugi hladni rat</td>\n",
       "      <td>U Evropi fašizam, nacizam i komunizam nikad ni...</td>\n",
       "    </tr>\n",
       "    <tr>\n",
       "      <th>2</th>\n",
       "      <td>Rasprava o dobrovoljnom ropstvu</td>\n",
       "      <td>Libertas omnibus rebus favoribilior est(Slobod...</td>\n",
       "    </tr>\n",
       "    <tr>\n",
       "      <th>3</th>\n",
       "      <td>Talični Liju</td>\n",
       "      <td>„Nakon propale ženidbe u rodnom selu Povetarče...</td>\n",
       "    </tr>\n",
       "    <tr>\n",
       "      <th>4</th>\n",
       "      <td>Moja prva igra memorije - životinje</td>\n",
       "      <td>Ovo je igra zapažanja i pamćenja. Cilj igre je...</td>\n",
       "    </tr>\n",
       "    <tr>\n",
       "      <th>5</th>\n",
       "      <td>Moja prva slagalica - velike životinje</td>\n",
       "      <td>Ovo je igra posmatranja i planiranja. Cilj igr...</td>\n",
       "    </tr>\n",
       "  </tbody>\n",
       "</table>\n",
       "</div>"
      ],
      "text/plain": [
       "                                   titles  \\\n",
       "0                        Drugi hladni rat   \n",
       "2         Rasprava o dobrovoljnom ropstvu   \n",
       "3                            Talični Liju   \n",
       "4     Moja prva igra memorije - životinje   \n",
       "5  Moja prva slagalica - velike životinje   \n",
       "\n",
       "                                           summaries  \n",
       "0  U Evropi fašizam, nacizam i komunizam nikad ni...  \n",
       "2  Libertas omnibus rebus favoribilior est(Slobod...  \n",
       "3  „Nakon propale ženidbe u rodnom selu Povetarče...  \n",
       "4  Ovo je igra zapažanja i pamćenja. Cilj igre je...  \n",
       "5  Ovo je igra posmatranja i planiranja. Cilj igr...  "
      ]
     },
     "execution_count": 8,
     "metadata": {},
     "output_type": "execute_result"
    }
   ],
   "source": [
    "df.head()"
   ]
  },
  {
   "cell_type": "code",
   "execution_count": 10,
   "metadata": {},
   "outputs": [
    {
     "data": {
      "text/html": [
       "<div>\n",
       "<style scoped>\n",
       "    .dataframe tbody tr th:only-of-type {\n",
       "        vertical-align: middle;\n",
       "    }\n",
       "\n",
       "    .dataframe tbody tr th {\n",
       "        vertical-align: top;\n",
       "    }\n",
       "\n",
       "    .dataframe thead th {\n",
       "        text-align: right;\n",
       "    }\n",
       "</style>\n",
       "<table border=\"1\" class=\"dataframe\">\n",
       "  <thead>\n",
       "    <tr style=\"text-align: right;\">\n",
       "      <th></th>\n",
       "      <th>titles</th>\n",
       "      <th>summaries</th>\n",
       "    </tr>\n",
       "  </thead>\n",
       "  <tbody>\n",
       "    <tr>\n",
       "      <th>0</th>\n",
       "      <td>Drugi hladni rat</td>\n",
       "      <td>u evropi fašizam nacizam i komunizam nikad nis...</td>\n",
       "    </tr>\n",
       "    <tr>\n",
       "      <th>2</th>\n",
       "      <td>Rasprava o dobrovoljnom ropstvu</td>\n",
       "      <td>libertas omnibus rebus favoribilior estsloboda...</td>\n",
       "    </tr>\n",
       "    <tr>\n",
       "      <th>3</th>\n",
       "      <td>Talični Liju</td>\n",
       "      <td>„nakon propale ženidbe u rodnom selu povetarče...</td>\n",
       "    </tr>\n",
       "    <tr>\n",
       "      <th>4</th>\n",
       "      <td>Moja prva igra memorije - životinje</td>\n",
       "      <td>ovo je igra zapažanja i pamćenja cilj igre je ...</td>\n",
       "    </tr>\n",
       "    <tr>\n",
       "      <th>5</th>\n",
       "      <td>Moja prva slagalica - velike životinje</td>\n",
       "      <td>ovo je igra posmatranja i planiranja cilj igre...</td>\n",
       "    </tr>\n",
       "  </tbody>\n",
       "</table>\n",
       "</div>"
      ],
      "text/plain": [
       "                                   titles  \\\n",
       "0                        Drugi hladni rat   \n",
       "2         Rasprava o dobrovoljnom ropstvu   \n",
       "3                            Talični Liju   \n",
       "4     Moja prva igra memorije - životinje   \n",
       "5  Moja prva slagalica - velike životinje   \n",
       "\n",
       "                                           summaries  \n",
       "0  u evropi fašizam nacizam i komunizam nikad nis...  \n",
       "2  libertas omnibus rebus favoribilior estsloboda...  \n",
       "3  „nakon propale ženidbe u rodnom selu povetarče...  \n",
       "4  ovo je igra zapažanja i pamćenja cilj igre je ...  \n",
       "5  ovo je igra posmatranja i planiranja cilj igre...  "
      ]
     },
     "execution_count": 10,
     "metadata": {},
     "output_type": "execute_result"
    }
   ],
   "source": [
    "import string\n",
    "PUNCT_TO_REMOVE = string.punctuation\n",
    "def remove_punctuation(text):\n",
    "    \n",
    "    return text.translate(str.maketrans('', '', PUNCT_TO_REMOVE))\n",
    "\n",
    "df[\"summaries\"] = df[\"summaries\"].apply(lambda text: remove_punctuation(text))\n",
    "df[\"summaries\"] = df[\"summaries\"].apply(lambda text: text.lower())\n",
    "df.head()"
   ]
  },
  {
   "cell_type": "code",
   "execution_count": 17,
   "metadata": {},
   "outputs": [
    {
     "name": "stdout",
     "output_type": "stream",
     "text": [
      "<class 'pandas.core.frame.DataFrame'>\n",
      "Int64Index: 38478 entries, 0 to 46969\n",
      "Data columns (total 2 columns):\n",
      " #   Column     Non-Null Count  Dtype \n",
      "---  ------     --------------  ----- \n",
      " 0   titles     38478 non-null  object\n",
      " 1   summaries  38478 non-null  object\n",
      "dtypes: object(2)\n",
      "memory usage: 1.9+ MB\n"
     ]
    }
   ],
   "source": [
    "df.info()"
   ]
  },
  {
   "cell_type": "code",
   "execution_count": 18,
   "metadata": {},
   "outputs": [],
   "source": [
    "def limit(text):\n",
    "    words = text.split(\" \")\n",
    "    if len(words) > 50:\n",
    "        return True\n",
    "    else:\n",
    "        return False"
   ]
  },
  {
   "cell_type": "code",
   "execution_count": 19,
   "metadata": {},
   "outputs": [
    {
     "name": "stdout",
     "output_type": "stream",
     "text": [
      "<class 'pandas.core.frame.DataFrame'>\n",
      "Int64Index: 30508 entries, 0 to 46969\n",
      "Data columns (total 2 columns):\n",
      " #   Column     Non-Null Count  Dtype \n",
      "---  ------     --------------  ----- \n",
      " 0   titles     30508 non-null  object\n",
      " 1   summaries  30508 non-null  object\n",
      "dtypes: object(2)\n",
      "memory usage: 715.0+ KB\n"
     ]
    }
   ],
   "source": [
    "df = df[(df['summaries'].apply(lambda x:limit(x)))]\n",
    "df.info()"
   ]
  },
  {
   "cell_type": "code",
   "execution_count": 20,
   "metadata": {},
   "outputs": [],
   "source": [
    "data_final = dict(zip(df.titles, df.summaries))\n",
    "df.to_csv(\"final-data.csv\",encoding='utf-8-sig')\n",
    "import pickle\n",
    "with open('final-dict.pkl', 'wb') as f:\n",
    "    pickle.dump(data_final, f)"
   ]
  }
 ],
 "metadata": {
  "interpreter": {
   "hash": "d8a050525f22bc7aa06f799790f2aee42ebb3e2bba46de38f5490e6682184a8d"
  },
  "kernelspec": {
   "display_name": "Python 3.8.8 64-bit ('TestEnv': conda)",
   "language": "python",
   "name": "python3"
  },
  "language_info": {
   "codemirror_mode": {
    "name": "ipython",
    "version": 3
   },
   "file_extension": ".py",
   "mimetype": "text/x-python",
   "name": "python",
   "nbconvert_exporter": "python",
   "pygments_lexer": "ipython3",
   "version": "3.8.8"
  },
  "orig_nbformat": 4
 },
 "nbformat": 4,
 "nbformat_minor": 2
}
